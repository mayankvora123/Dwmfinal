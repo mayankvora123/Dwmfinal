{
  "nbformat": 4,
  "nbformat_minor": 0,
  "metadata": {
    "colab": {
      "provenance": []
    },
    "kernelspec": {
      "name": "python3",
      "display_name": "Python 3"
    },
    "language_info": {
      "name": "python"
    }
  },
  "cells": [
    {
      "cell_type": "code",
      "source": [
        "# Input format\n",
        "# 2\n",
        "# 5\n",
        "# 2 1\n",
        "# 1 2\n",
        "# 2 2\n",
        "# 6 6\n",
        "# 5 7"
      ],
      "metadata": {
        "id": "0_jXYzSo_l_N"
      },
      "execution_count": 3,
      "outputs": []
    },
    {
      "cell_type": "code",
      "source": [
        "import numpy as np\n",
        "import random\n",
        "import matplotlib.pyplot as plt\n",
        "\n",
        "# Get user input\n",
        "def get_user_input():\n",
        "    try:\n",
        "        k = int(input(\"Enter the number of clusters (k): \"))\n",
        "        n = int(input(\"Enter the number of data points: \"))\n",
        "        print(\"Enter the data points (x y):\")\n",
        "        data = []\n",
        "        for _ in range(n):\n",
        "            user_input = input()\n",
        "            parts = user_input.split()\n",
        "            x = float(parts[0])\n",
        "            y = float(parts[1])\n",
        "            data.append([x, y])\n",
        "        return k, np.array(data)\n",
        "    except Exception as e:\n",
        "        print(\"Error:\", e)\n",
        "        return None, None\n",
        "\n",
        "# Calculate Euclidean distance\n",
        "def distance(p1, p2):\n",
        "    return np.sqrt(np.sum((p1 - p2)**2))\n",
        "\n",
        "# Assign points to closest centroid\n",
        "def assign_clusters(data, centroids):\n",
        "    clusters = [[] for _ in centroids]\n",
        "    for point in data:\n",
        "        distances = [distance(point, centroid) for centroid in centroids]\n",
        "        index = np.argmin(distances)\n",
        "        clusters[index].append(point)\n",
        "    return clusters\n",
        "\n",
        "# Compute new centroids\n",
        "def compute_centroids(clusters, old_centroids, data):\n",
        "    new_centroids = []\n",
        "    for i, cluster in enumerate(clusters):\n",
        "        if cluster:\n",
        "            new_centroids.append(np.mean(cluster, axis=0))\n",
        "        else:\n",
        "            new_centroids.append(random.choice(data))  # Handle empty cluster\n",
        "    return new_centroids\n",
        "\n",
        "# Plot clusters\n",
        "def plot_clusters(clusters, centroids):\n",
        "    colors = ['red', 'blue', 'green', 'orange', 'purple', 'cyan']\n",
        "    for i, cluster in enumerate(clusters):\n",
        "        cluster = np.array(cluster)\n",
        "        if len(cluster) > 0:\n",
        "            plt.scatter(cluster[:, 0], cluster[:, 1], color=colors[i % len(colors)], label=f'Cluster {i}')\n",
        "    for i, centroid in enumerate(centroids):\n",
        "        plt.scatter(centroid[0], centroid[1], color='black', marker='X', s=100, label=f'Centroid {i}')\n",
        "    plt.title(\"K-Means Clustering\")\n",
        "    plt.xlabel(\"X\")\n",
        "    plt.ylabel(\"Y\")\n",
        "    plt.legend()\n",
        "    plt.grid(True)\n",
        "    plt.show()\n",
        "\n",
        "\n",
        "k, data = get_user_input()\n",
        "\n",
        "if k is not None and data is not None:\n",
        "    random.seed(42)\n",
        "    centroids = random.sample(list(data), k)\n",
        "\n",
        "    for iteration in range(100):\n",
        "        clusters = assign_clusters(data, centroids)\n",
        "        new_centroids = compute_centroids(clusters, centroids, data)\n",
        "\n",
        "        print(f\"\\n--- Iteration {iteration + 1} ---\")\n",
        "        print(\"Centroids:\")\n",
        "        for i, centroid in enumerate(new_centroids):\n",
        "            print(f\"Centroid {i}: {[round(coord.tolist(), 4) for coord in centroid]}\")\n",
        "\n",
        "        print(\"\\nClusters:\")\n",
        "        for i, cluster in enumerate(clusters):\n",
        "            readable_points = [point.tolist() for point in cluster]\n",
        "            print(f\"Cluster {i}: {readable_points}\")\n",
        "\n",
        "        if np.allclose(centroids, new_centroids):\n",
        "            print(\"\\nConverged Clusters.\")\n",
        "            break\n",
        "\n",
        "        centroids = new_centroids\n",
        "\n",
        "    # Final Results\n",
        "    print(\"\\n=== Final Results ===\")\n",
        "    print(\"Final Centroids:\")\n",
        "    for i, centroid in enumerate(centroids):\n",
        "        print(f\"Centroid {i}: {[round(coord.tolist(), 4) for coord in centroid]}\")\n",
        "\n",
        "    print(\"\\nData Points in Each Cluster:\")\n",
        "    for i, cluster in enumerate(clusters):\n",
        "        readable_points = [point.tolist() for point in cluster]\n",
        "        print(f\"Cluster {i}: {readable_points}\")\n",
        "\n",
        "    # Plot final result\n",
        "    plot_clusters(clusters, centroids)\n"
      ],
      "metadata": {
        "colab": {
          "base_uri": "https://localhost:8080/",
          "height": 1000
        },
        "id": "UpB9VYB62anF",
        "outputId": "65cce95a-7b85-432e-afc6-6ef2413972a8"
      },
      "execution_count": 4,
      "outputs": [
        {
          "output_type": "stream",
          "name": "stdout",
          "text": [
            "Enter the number of clusters (k): 2\n",
            "Enter the number of data points: 5\n",
            "Enter the data points (x y):\n",
            "2 1\n",
            "1 2\n",
            "2 2\n",
            "6 6\n",
            "5 7\n",
            "\n",
            "--- Iteration 1 ---\n",
            "Centroids:\n",
            "Centroid 0: [1.6667, 1.6667]\n",
            "Centroid 1: [5.5, 6.5]\n",
            "\n",
            "Clusters:\n",
            "Cluster 0: [[2.0, 1.0], [1.0, 2.0], [2.0, 2.0]]\n",
            "Cluster 1: [[6.0, 6.0], [5.0, 7.0]]\n",
            "\n",
            "--- Iteration 2 ---\n",
            "Centroids:\n",
            "Centroid 0: [1.6667, 1.6667]\n",
            "Centroid 1: [5.5, 6.5]\n",
            "\n",
            "Clusters:\n",
            "Cluster 0: [[2.0, 1.0], [1.0, 2.0], [2.0, 2.0]]\n",
            "Cluster 1: [[6.0, 6.0], [5.0, 7.0]]\n",
            "\n",
            "Converged.\n",
            "\n",
            "=== Final Results ===\n",
            "Final Centroids:\n",
            "Centroid 0: [1.6667, 1.6667]\n",
            "Centroid 1: [5.5, 6.5]\n",
            "\n",
            "Data Points in Each Cluster:\n",
            "Cluster 0: [[2.0, 1.0], [1.0, 2.0], [2.0, 2.0]]\n",
            "Cluster 1: [[6.0, 6.0], [5.0, 7.0]]\n"
          ]
        },
        {
          "output_type": "display_data",
          "data": {
            "text/plain": [
              "<Figure size 640x480 with 1 Axes>"
            ],
            "image/png": "[encoded data removed]"
          },
          "metadata": {}
        }
      ]
    },
    {
      "cell_type": "code",
      "source": [],
      "metadata": {
        "id": "kmjajU8H28rq"
      },
      "execution_count": null,
      "outputs": []
    }
  ]
}