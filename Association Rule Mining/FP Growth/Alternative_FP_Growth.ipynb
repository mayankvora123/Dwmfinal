{
  "nbformat": 4,
  "nbformat_minor": 0,
  "metadata": {
    "colab": {
      "provenance": []
    },
    "kernelspec": {
      "name": "python3",
      "display_name": "Python 3"
    },
    "language_info": {
      "name": "python"
    }
  },
  "cells": [
    {
      "cell_type": "code",
      "source": [
        "pip install anytree"
      ],
      "metadata": {
        "colab": {
          "base_uri": "https://localhost:8080/"
        },
        "id": "rIpprT-fG-LP",
        "outputId": "402596b4-3236-41ea-f180-481bef5a4846"
      },
      "execution_count": 2,
      "outputs": [
        {
          "output_type": "stream",
          "name": "stdout",
          "text": [
            "Collecting anytree\n",
            "  Downloading anytree-2.13.0-py3-none-any.whl.metadata (8.0 kB)\n",
            "Downloading anytree-2.13.0-py3-none-any.whl (45 kB)\n",
            "\u001b[?25l   \u001b[90m━━━━━━━━━━━━━━━━━━━━━━━━━━━━━━━━━━━━━━━━\u001b[0m \u001b[32m0.0/45.1 kB\u001b[0m \u001b[31m?\u001b[0m eta \u001b[36m-:--:--\u001b[0m\r\u001b[2K   \u001b[90m━━━━━━━━━━━━━━━━━━━━━━━━━━━━━━━━━━━━━━━━\u001b[0m \u001b[32m45.1/45.1 kB\u001b[0m \u001b[31m3.5 MB/s\u001b[0m eta \u001b[36m0:00:00\u001b[0m\n",
            "\u001b[?25hInstalling collected packages: anytree\n",
            "Successfully installed anytree-2.13.0\n"
          ]
        }
      ]
    },
    {
      "cell_type": "code",
      "source": [
        "import pandas as pd\n",
        "from collections import defaultdict\n",
        "from anytree import Node, RenderTree\n",
        "\n",
        "# Load and preprocess data\n",
        "df = pd.read_csv(\"/content/Association Rule Mining.csv\")\n",
        "t = df['Items'].dropna().apply(lambda x: x.strip().upper().split())\n",
        "n = len(t)\n",
        "\n",
        "# Minimum support input\n",
        "ms = round(float(input('Min support %: ')) / 100 * n)\n",
        "print(f'\\nMin Supp: {ms}')\n",
        "\n",
        "# Count item frequencies\n",
        "ic = defaultdict(int)\n",
        "for x in t:\n",
        "    for i in x:\n",
        "        ic[i] += 1\n",
        "\n",
        "# Filter by min support\n",
        "ic = {k: v for k, v in ic.items() if v >= ms}\n",
        "\n",
        "# Sort and filter transactions\n",
        "def si(x): return sorted([i for i in x if i in ic], key=lambda y: (-ic[y], y))\n",
        "ot = [si(x) for x in t if si(x)]\n",
        "\n",
        "# Define FP-Tree node\n",
        "class N:\n",
        "    def __init__(self, i, c, p):\n",
        "        self.i, self.c, self.p = i, c, p\n",
        "        self.ch, self.l = {}, None\n",
        "\n",
        "# Build FP-Tree\n",
        "def bft(tr):\n",
        "    r = N(None, 0, None)\n",
        "    h = defaultdict(list)\n",
        "    for x in tr:\n",
        "        c = r\n",
        "        for i in x:\n",
        "            if i in c.ch:\n",
        "                c.ch[i].c += 1\n",
        "            else:\n",
        "                c.ch[i] = N(i, 1, c)\n",
        "                h[i].append(c.ch[i])\n",
        "            c = c.ch[i]\n",
        "    return r\n",
        "\n",
        "# Traverse FP-Tree with anytree\n",
        "def ba(n, p=None):\n",
        "    m = f\"{n.i} ({n.c})\" if n.i else \";Root\"\n",
        "    x = Node(m, p)\n",
        "    for c in n.ch.values():\n",
        "        ba(c, x)\n",
        "    return x\n",
        "\n",
        "# Build the FP-Tree\n",
        "r = bft(ot)\n",
        "\n",
        "# Print FP-Tree Structure\n",
        "print('\\nFP-Tree Structure:')\n",
        "tr = ba(r)\n",
        "for pre, _, node in RenderTree(tr):\n",
        "    print(f\"{pre}{node.name}\")\n",
        "\n",
        "# -----------------------------------------------\n",
        "# Conditional Pattern Base Table (formatted clean)\n",
        "# -----------------------------------------------\n",
        "header_table = defaultdict(list)\n",
        "\n",
        "def link_header(n):\n",
        "    if n.i:\n",
        "        header_table[n.i].append(n)\n",
        "    for child in n.ch.values():\n",
        "        link_header(child)\n",
        "\n",
        "link_header(r)\n",
        "\n",
        "def get_conditional_pattern_base(item):\n",
        "    paths = []\n",
        "    for node in header_table[item]:\n",
        "        path = []\n",
        "        p = node.p\n",
        "        while p and p.i is not None:\n",
        "            path.append(p.i)\n",
        "            p = p.p\n",
        "        if path:\n",
        "            paths.append((list(reversed(path)), node.c))\n",
        "    return paths\n",
        "\n",
        "def build_conditional_fp_tree(pattern_base):\n",
        "    tree = defaultdict(int)\n",
        "    for path, count in pattern_base:\n",
        "        for item in path:\n",
        "            tree[item] += count\n",
        "    return dict(tree)\n",
        "\n",
        "def generate_patterns(item, conditional_fp_tree):\n",
        "    return [tuple(sorted((item,) + (i,))) for i in conditional_fp_tree]\n",
        "\n",
        "# Build final DataFrame\n",
        "rows = []\n",
        "for item in sorted(header_table.keys(), key=lambda x: ic[x]):\n",
        "    cpb = get_conditional_pattern_base(item)\n",
        "    cpb_str = [f\"({' -> '.join(p)}):{c}\" for p, c in cpb]\n",
        "    cond_fp_tree = build_conditional_fp_tree(cpb)\n",
        "    freq_patterns = generate_patterns(item, cond_fp_tree)\n",
        "\n",
        "    rows.append({\n",
        "        'Item': item,\n",
        "        'Conditional Pattern Base': ', '.join(cpb_str) if cpb_str else '∅',\n",
        "        'Conditional FP-Tree': ', '.join([f\"{k}:{v}\" for k, v in cond_fp_tree.items()]) if cond_fp_tree else '∅',\n",
        "        'Frequent Pattern Generation': ', '.join(['{' + ','.join(p) + '}' for p in freq_patterns]) if freq_patterns else '∅'\n",
        "    })\n",
        "\n",
        "cond_df = pd.DataFrame(rows)\n",
        "\n",
        "# Print Final Table\n",
        "print(\"\\nConditional Pattern Base Table:\\n\")\n",
        "print(cond_df.to_string(index=False))"
      ],
      "metadata": {
        "colab": {
          "base_uri": "https://localhost:8080/"
        },
        "id": "r4kM19z5G3_s",
        "outputId": "7a920c85-58f8-46c0-b8e3-9f08aff68aad"
      },
      "execution_count": 3,
      "outputs": [
        {
          "output_type": "stream",
          "name": "stdout",
          "text": [
            "Min support %: 22\n",
            "\n",
            "Min Supp: 2\n",
            "\n",
            "FP-Tree Structure:\n",
            ";Root\n",
            "├── I2, (7)\n",
            "│   ├── I1, (4)\n",
            "│   │   ├── I5 (2)\n",
            "│   │   ├── I4 (1)\n",
            "│   │   └── I3 (1)\n",
            "│   ├── I4 (1)\n",
            "│   └── I3 (2)\n",
            "└── I1, (2)\n",
            "    └── I3 (2)\n",
            "\n",
            "Conditional Pattern Base Table:\n",
            "\n",
            "Item         Conditional Pattern Base Conditional FP-Tree Frequent Pattern Generation\n",
            "  I5                   (I2, -> I1,):2        I2,:2, I1,:2          {I2,,I5}, {I1,,I5}\n",
            "  I4          (I2, -> I1,):1, (I2,):1        I2,:2, I1,:1          {I2,,I4}, {I1,,I4}\n",
            "  I3 (I2, -> I1,):1, (I2,):2, (I1,):2        I2,:3, I1,:3          {I2,,I3}, {I1,,I3}\n",
            " I1,                          (I2,):4               I2,:4                   {I1,,I2,}\n",
            " I2,                                ∅                   ∅                           ∅\n"
          ]
        }
      ]
    },
    {
      "cell_type": "code",
      "source": [],
      "metadata": {
        "id": "aoeD9h9LG4Hq"
      },
      "execution_count": null,
      "outputs": []
    }
  ]
}